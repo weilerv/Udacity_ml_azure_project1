{
  "cells": [
    {
      "cell_type": "code",
      "source": [
        "pip install azureml-train-core"
      ],
      "outputs": [
        {
          "output_type": "stream",
          "name": "stdout",
          "text": "Requirement already satisfied: azureml-train-core in /anaconda/envs/jupyter_env/lib/python3.8/site-packages (1.50.0)\nRequirement already satisfied: azureml-telemetry~=1.50.0 in /anaconda/envs/jupyter_env/lib/python3.8/site-packages (from azureml-train-core) (1.50.0)\nRequirement already satisfied: azureml-core~=1.50.0 in /anaconda/envs/jupyter_env/lib/python3.8/site-packages (from azureml-train-core) (1.50.0)\nRequirement already satisfied: azureml-train-restclients-hyperdrive~=1.50.0 in /anaconda/envs/jupyter_env/lib/python3.8/site-packages (from azureml-train-core) (1.50.0)\nRequirement already satisfied: azure-common<2.0.0,>=1.1.12 in /anaconda/envs/jupyter_env/lib/python3.8/site-packages (from azureml-core~=1.50.0->azureml-train-core) (1.1.28)\nRequirement already satisfied: requests[socks]<3.0.0,>=2.19.1 in /anaconda/envs/jupyter_env/lib/python3.8/site-packages (from azureml-core~=1.50.0->azureml-train-core) (2.28.2)\nRequirement already satisfied: azure-mgmt-resource<=22.0.0,>=15.0.0 in /anaconda/envs/jupyter_env/lib/python3.8/site-packages (from azureml-core~=1.50.0->azureml-train-core) (21.2.1)\nRequirement already satisfied: knack~=0.10.0 in /anaconda/envs/jupyter_env/lib/python3.8/site-packages (from azureml-core~=1.50.0->azureml-train-core) (0.10.1)\nRequirement already satisfied: azure-core<2.0.0 in /anaconda/envs/jupyter_env/lib/python3.8/site-packages (from azureml-core~=1.50.0->azureml-train-core) (1.26.4)\nRequirement already satisfied: azure-mgmt-containerregistry<11,>=8.2.0 in /anaconda/envs/jupyter_env/lib/python3.8/site-packages (from azureml-core~=1.50.0->azureml-train-core) (10.1.0)\nRequirement already satisfied: ndg-httpsclient<=0.5.1 in /anaconda/envs/jupyter_env/lib/python3.8/site-packages (from azureml-core~=1.50.0->azureml-train-core) (0.5.1)\nRequirement already satisfied: azure-graphrbac<1.0.0,>=0.40.0 in /anaconda/envs/jupyter_env/lib/python3.8/site-packages (from azureml-core~=1.50.0->azureml-train-core) (0.61.1)\nRequirement already satisfied: azure-mgmt-keyvault<11.0.0,>=0.40.0 in /anaconda/envs/jupyter_env/lib/python3.8/site-packages (from azureml-core~=1.50.0->azureml-train-core) (10.2.1)\nRequirement already satisfied: azure-mgmt-storage<=21.0.0,>=16.0.0 in /anaconda/envs/jupyter_env/lib/python3.8/site-packages (from azureml-core~=1.50.0->azureml-train-core) (20.1.0)\nRequirement already satisfied: argcomplete<3 in /anaconda/envs/jupyter_env/lib/python3.8/site-packages (from azureml-core~=1.50.0->azureml-train-core) (2.1.2)\nRequirement already satisfied: paramiko<4.0.0,>=2.0.8 in /anaconda/envs/jupyter_env/lib/python3.8/site-packages (from azureml-core~=1.50.0->azureml-train-core) (2.12.0)\nRequirement already satisfied: packaging<=23.0,>=20.0 in /anaconda/envs/jupyter_env/lib/python3.8/site-packages (from azureml-core~=1.50.0->azureml-train-core) (21.3)\nRequirement already satisfied: pytz in /anaconda/envs/jupyter_env/lib/python3.8/site-packages (from azureml-core~=1.50.0->azureml-train-core) (2023.3)\nRequirement already satisfied: contextlib2<22.0.0 in /anaconda/envs/jupyter_env/lib/python3.8/site-packages (from azureml-core~=1.50.0->azureml-train-core) (21.6.0)\nRequirement already satisfied: urllib3<2.0.0,>=1.23 in /anaconda/envs/jupyter_env/lib/python3.8/site-packages (from azureml-core~=1.50.0->azureml-train-core) (1.26.15)\nRequirement already satisfied: python-dateutil<3.0.0,>=2.7.3 in /anaconda/envs/jupyter_env/lib/python3.8/site-packages (from azureml-core~=1.50.0->azureml-train-core) (2.8.2)\nRequirement already satisfied: jsonpickle<4.0.0 in /anaconda/envs/jupyter_env/lib/python3.8/site-packages (from azureml-core~=1.50.0->azureml-train-core) (2.2.0)\nRequirement already satisfied: jmespath<2.0.0 in /anaconda/envs/jupyter_env/lib/python3.8/site-packages (from azureml-core~=1.50.0->azureml-train-core) (0.10.0)\nRequirement already satisfied: azure-mgmt-authorization<4,>=0.40.0 in /anaconda/envs/jupyter_env/lib/python3.8/site-packages (from azureml-core~=1.50.0->azureml-train-core) (3.0.0)\nRequirement already satisfied: PyJWT<3.0.0 in /anaconda/envs/jupyter_env/lib/python3.8/site-packages (from azureml-core~=1.50.0->azureml-train-core) (2.6.0)\nRequirement already satisfied: adal<=1.2.7,>=1.2.0 in /anaconda/envs/jupyter_env/lib/python3.8/site-packages (from azureml-core~=1.50.0->azureml-train-core) (1.2.7)\nRequirement already satisfied: pathspec<1.0.0 in /anaconda/envs/jupyter_env/lib/python3.8/site-packages (from azureml-core~=1.50.0->azureml-train-core) (0.11.1)\nRequirement already satisfied: pyopenssl<24.0.0 in /anaconda/envs/jupyter_env/lib/python3.8/site-packages (from azureml-core~=1.50.0->azureml-train-core) (23.1.1)\nRequirement already satisfied: backports.tempfile in /anaconda/envs/jupyter_env/lib/python3.8/site-packages (from azureml-core~=1.50.0->azureml-train-core) (1.0)\nRequirement already satisfied: msal<2.0.0,>=1.15.0 in /anaconda/envs/jupyter_env/lib/python3.8/site-packages (from azureml-core~=1.50.0->azureml-train-core) (1.21.0)\nRequirement already satisfied: pkginfo in /anaconda/envs/jupyter_env/lib/python3.8/site-packages (from azureml-core~=1.50.0->azureml-train-core) (1.9.6)\nRequirement already satisfied: SecretStorage<4.0.0 in /anaconda/envs/jupyter_env/lib/python3.8/site-packages (from azureml-core~=1.50.0->azureml-train-core) (3.3.3)\nRequirement already satisfied: msrest<=0.7.1,>=0.5.1 in /anaconda/envs/jupyter_env/lib/python3.8/site-packages (from azureml-core~=1.50.0->azureml-train-core) (0.7.1)\nRequirement already satisfied: humanfriendly<11.0,>=4.7 in /anaconda/envs/jupyter_env/lib/python3.8/site-packages (from azureml-core~=1.50.0->azureml-train-core) (10.0)\nRequirement already satisfied: msrestazure<=0.6.4,>=0.4.33 in /anaconda/envs/jupyter_env/lib/python3.8/site-packages (from azureml-core~=1.50.0->azureml-train-core) (0.6.4)\nRequirement already satisfied: cryptography!=1.9,!=2.0.*,!=2.1.*,!=2.2.*,<41 in /anaconda/envs/jupyter_env/lib/python3.8/site-packages (from azureml-core~=1.50.0->azureml-train-core) (40.0.1)\nRequirement already satisfied: msal-extensions<=1.0.0,>=0.3.0 in /anaconda/envs/jupyter_env/lib/python3.8/site-packages (from azureml-core~=1.50.0->azureml-train-core) (1.0.0)\nRequirement already satisfied: docker<7.0.0 in /anaconda/envs/jupyter_env/lib/python3.8/site-packages (from azureml-core~=1.50.0->azureml-train-core) (6.0.1)\nRequirement already satisfied: applicationinsights in /anaconda/envs/jupyter_env/lib/python3.8/site-packages (from azureml-telemetry~=1.50.0->azureml-train-core) (0.11.10)\nRequirement already satisfied: six>=1.11.0 in /anaconda/envs/jupyter_env/lib/python3.8/site-packages (from azure-core<2.0.0->azureml-core~=1.50.0->azureml-train-core) (1.16.0)\nRequirement already satisfied: typing-extensions>=4.3.0 in /anaconda/envs/jupyter_env/lib/python3.8/site-packages (from azure-core<2.0.0->azureml-core~=1.50.0->azureml-train-core) (4.5.0)\nRequirement already satisfied: azure-mgmt-core<2.0.0,>=1.3.2 in /anaconda/envs/jupyter_env/lib/python3.8/site-packages (from azure-mgmt-authorization<4,>=0.40.0->azureml-core~=1.50.0->azureml-train-core) (1.4.0)\nRequirement already satisfied: isodate<1.0.0,>=0.6.1 in /anaconda/envs/jupyter_env/lib/python3.8/site-packages (from azure-mgmt-keyvault<11.0.0,>=0.40.0->azureml-core~=1.50.0->azureml-train-core) (0.6.1)\nRequirement already satisfied: cffi>=1.12 in /anaconda/envs/jupyter_env/lib/python3.8/site-packages (from cryptography!=1.9,!=2.0.*,!=2.1.*,!=2.2.*,<41->azureml-core~=1.50.0->azureml-train-core) (1.15.1)\nRequirement already satisfied: websocket-client>=0.32.0 in /anaconda/envs/jupyter_env/lib/python3.8/site-packages (from docker<7.0.0->azureml-core~=1.50.0->azureml-train-core) (1.5.1)\nRequirement already satisfied: tabulate in /anaconda/envs/jupyter_env/lib/python3.8/site-packages (from knack~=0.10.0->azureml-core~=1.50.0->azureml-train-core) (0.9.0)\nRequirement already satisfied: pyyaml in /anaconda/envs/jupyter_env/lib/python3.8/site-packages (from knack~=0.10.0->azureml-core~=1.50.0->azureml-train-core) (6.0)\nRequirement already satisfied: pygments in /anaconda/envs/jupyter_env/lib/python3.8/site-packages (from knack~=0.10.0->azureml-core~=1.50.0->azureml-train-core) (2.14.0)\nRequirement already satisfied: portalocker<3,>=1.0 in /anaconda/envs/jupyter_env/lib/python3.8/site-packages (from msal-extensions<=1.0.0,>=0.3.0->azureml-core~=1.50.0->azureml-train-core) (2.7.0)\nRequirement already satisfied: requests-oauthlib>=0.5.0 in /anaconda/envs/jupyter_env/lib/python3.8/site-packages (from msrest<=0.7.1,>=0.5.1->azureml-core~=1.50.0->azureml-train-core) (1.3.1)\nRequirement already satisfied: certifi>=2017.4.17 in /anaconda/envs/jupyter_env/lib/python3.8/site-packages (from msrest<=0.7.1,>=0.5.1->azureml-core~=1.50.0->azureml-train-core) (2022.12.7)\nRequirement already satisfied: pyasn1>=0.1.1 in /anaconda/envs/jupyter_env/lib/python3.8/site-packages (from ndg-httpsclient<=0.5.1->azureml-core~=1.50.0->azureml-train-core) (0.4.8)\nRequirement already satisfied: pyparsing!=3.0.5,>=2.0.2 in /anaconda/envs/jupyter_env/lib/python3.8/site-packages (from packaging<=23.0,>=20.0->azureml-core~=1.50.0->azureml-train-core) (3.0.9)\nRequirement already satisfied: bcrypt>=3.1.3 in /anaconda/envs/jupyter_env/lib/python3.8/site-packages (from paramiko<4.0.0,>=2.0.8->azureml-core~=1.50.0->azureml-train-core) (4.0.1)\nRequirement already satisfied: pynacl>=1.0.1 in /anaconda/envs/jupyter_env/lib/python3.8/site-packages (from paramiko<4.0.0,>=2.0.8->azureml-core~=1.50.0->azureml-train-core) (1.5.0)\nRequirement already satisfied: idna<4,>=2.5 in /anaconda/envs/jupyter_env/lib/python3.8/site-packages (from requests[socks]<3.0.0,>=2.19.1->azureml-core~=1.50.0->azureml-train-core) (3.4)\nRequirement already satisfied: charset-normalizer<4,>=2 in /anaconda/envs/jupyter_env/lib/python3.8/site-packages (from requests[socks]<3.0.0,>=2.19.1->azureml-core~=1.50.0->azureml-train-core) (3.1.0)\nRequirement already satisfied: PySocks!=1.5.7,>=1.5.6 in /anaconda/envs/jupyter_env/lib/python3.8/site-packages (from requests[socks]<3.0.0,>=2.19.1->azureml-core~=1.50.0->azureml-train-core) (1.7.1)\nRequirement already satisfied: jeepney>=0.6 in /anaconda/envs/jupyter_env/lib/python3.8/site-packages (from SecretStorage<4.0.0->azureml-core~=1.50.0->azureml-train-core) (0.8.0)\nRequirement already satisfied: backports.weakref in /anaconda/envs/jupyter_env/lib/python3.8/site-packages (from backports.tempfile->azureml-core~=1.50.0->azureml-train-core) (1.0.post1)\nRequirement already satisfied: pycparser in /anaconda/envs/jupyter_env/lib/python3.8/site-packages (from cffi>=1.12->cryptography!=1.9,!=2.0.*,!=2.1.*,!=2.2.*,<41->azureml-core~=1.50.0->azureml-train-core) (2.21)\nRequirement already satisfied: oauthlib>=3.0.0 in /anaconda/envs/jupyter_env/lib/python3.8/site-packages (from requests-oauthlib>=0.5.0->msrest<=0.7.1,>=0.5.1->azureml-core~=1.50.0->azureml-train-core) (3.2.2)\nNote: you may need to restart the kernel to use updated packages.\n"
        }
      ],
      "execution_count": 1,
      "metadata": {
        "jupyter": {
          "source_hidden": false,
          "outputs_hidden": false
        },
        "nteract": {
          "transient": {
            "deleting": false
          }
        },
        "gather": {
          "logged": 1684489757431
        }
      }
    },
    {
      "cell_type": "code",
      "source": [
        "from azureml.core import Workspace, Experiment\n",
        "\n",
        "ws = Workspace.from_config()\n",
        "exp = Experiment(workspace=ws, name=\"udacity-project\")\n",
        "\n",
        "print('Workspace name: ' + ws.name, \n",
        "      'Azure region: ' + ws.location, \n",
        "      'Subscription id: ' + ws.subscription_id, \n",
        "      'Resource group: ' + ws.resource_group, sep = '\\n')\n",
        "\n",
        "run = exp.start_logging()"
      ],
      "outputs": [
        {
          "output_type": "stream",
          "name": "stdout",
          "text": "Workspace name: quick-starts-ws-233989\nAzure region: eastus2\nSubscription id: aa7cf8e8-d23f-4bce-a7b9-1f0b4e0ac8ee\nResource group: aml-quickstarts-233989\n"
        }
      ],
      "execution_count": 2,
      "metadata": {
        "gather": {
          "logged": 1684489759506
        }
      }
    },
    {
      "cell_type": "code",
      "source": [
        "from azureml.core.compute import ComputeTarget, AmlCompute\n",
        "from azureml.core.compute_target import ComputeTargetException\n",
        "\n",
        "cluster_name = \"Udacity\"\n",
        "\n",
        "# TODO: Create compute cluster\n",
        "# Use vm_size = \"Standard_D2_V2\" in your provisioning configuration.\n",
        "# max_nodes should be no greater than 4.\n",
        "\n",
        "try:\n",
        "    cluster = ComputeTarget(workspace=ws, name=cluster_name)\n",
        "    print(\"Found existing cluster\")\n",
        "except ComputeTargetException:\n",
        "    print(\"Creating new cluster\")\n",
        "\n",
        "    compute_config = AmlCompute.provisioning_configuration(\n",
        "        vm_size = 'STANDARD_D2_V2',\n",
        "        min_modes=0,\n",
        "        max_nodes=4)\n",
        "    cluster = ComputeTarget.create(ws, cluster_name, compute_config)\n",
        "cluster.wait_for_completion(show_output=True)"
      ],
      "outputs": [
        {
          "output_type": "stream",
          "name": "stdout",
          "text": "Found existing cluster\n\nRunning\n"
        }
      ],
      "execution_count": 3,
      "metadata": {
        "gather": {
          "logged": 1684489765080
        },
        "jupyter": {
          "outputs_hidden": false,
          "source_hidden": false
        },
        "nteract": {
          "transient": {
            "deleting": false
          }
        }
      }
    },
    {
      "cell_type": "code",
      "source": [
        "from azureml.widgets import RunDetails\n",
        "from azureml.train.sklearn import SKLearn\n",
        "from azureml.train.hyperdrive.run import PrimaryMetricGoal\n",
        "from azureml.train.hyperdrive.policy import BanditPolicy\n",
        "from azureml.train.hyperdrive.sampling import RandomParameterSampling\n",
        "from azureml.train.hyperdrive.runconfig import HyperDriveConfig\n",
        "from azureml.train.hyperdrive.parameter_expressions import choice, uniform\n",
        "from azureml.core import Environment, ScriptRunConfig\n",
        "import os\n",
        "\n",
        "# Specify parameter sampler\n",
        "ps = RandomParameterSampling(\n",
        "    {\n",
        "        '--C': choice(0.1,0.5,1,5),\n",
        "        '--max_iter': choice(50, 100, 500)\n",
        "    }\n",
        ")\n",
        "\n",
        "# Specify a Policy\n",
        "policy = BanditPolicy(evaluation_interval=2, slack_factor=0.1)\n",
        "\n",
        "if \"training\" not in os.listdir():\n",
        "    os.mkdir(\"./training\")\n",
        "\n",
        "# Setup environment for your training run\n",
        "sklearn_env = Environment.from_conda_specification(name='sklearn-env', file_path='conda_dependencies.yml')\n",
        "\n",
        "# Create a ScriptRunConfig Object to specify the configuration details of your training job\n",
        "src = ScriptRunConfig(source_directory='.',\n",
        "                script='train_wv.py',\n",
        "                compute_target=cluster,\n",
        "                environment=sklearn_env)\n",
        "\n",
        "\n",
        "# Create a HyperDriveConfig using the src object, hyperparameter sampler, and policy.\n",
        "hyperdrive_config = HyperDriveConfig(run_config=src,\n",
        "                hyperparameter_sampling=ps,\n",
        "                policy=policy,\n",
        "                primary_metric_name='Accuracy',\n",
        "                primary_metric_goal=PrimaryMetricGoal.MAXIMIZE,\n",
        "                max_total_runs=100,\n",
        "                max_concurrent_runs=4)"
      ],
      "outputs": [],
      "execution_count": 4,
      "metadata": {
        "gather": {
          "logged": 1684489770439
        },
        "jupyter": {
          "outputs_hidden": false,
          "source_hidden": false
        },
        "nteract": {
          "transient": {
            "deleting": false
          }
        }
      }
    },
    {
      "cell_type": "code",
      "source": [
        "# Submit your hyperdrive run to the experiment and show run details with the widget.\n",
        "\n",
        "hyperdrive_run = exp.submit(config=hyperdrive_config)\n",
        "RunDetails(hyperdrive_run).show()\n",
        "hyperdrive_run.wait_for_completion(show_output=True)"
      ],
      "outputs": [
        {
          "output_type": "error",
          "ename": "RuntimeError",
          "evalue": "module compiled against API version 0x10 but this version of numpy is 0xf",
          "traceback": [
            "\u001b[0;31m---------------------------------------------------------------------------\u001b[0m",
            "\u001b[0;31mRuntimeError\u001b[0m                              Traceback (most recent call last)",
            "\u001b[0;31mRuntimeError\u001b[0m: module compiled against API version 0x10 but this version of numpy is 0xf"
          ]
        }
      ],
      "execution_count": 5,
      "metadata": {
        "gather": {
          "logged": 1684489774120
        },
        "jupyter": {
          "outputs_hidden": false
        }
      }
    },
    {
      "cell_type": "code",
      "source": [
        "pip install joblib"
      ],
      "outputs": [],
      "execution_count": null,
      "metadata": {
        "jupyter": {
          "source_hidden": false,
          "outputs_hidden": false
        },
        "nteract": {
          "transient": {
            "deleting": false
          }
        },
        "gather": {
          "logged": 1684489774682
        }
      }
    },
    {
      "cell_type": "code",
      "source": [
        "import joblib\n",
        "# Get your best run and save the model from that run.\n",
        "\n",
        "best_run = hyperdrive_run.get_best_run_by_primary_metric()\n",
        "print(best_run)\n",
        "best_run.register_model(model_name = 'best_hd_model.pkl', model_path='outputs/model.joblib')"
      ],
      "outputs": [],
      "execution_count": null,
      "metadata": {
        "gather": {
          "logged": 1684489774712
        },
        "jupyter": {
          "outputs_hidden": false,
          "source_hidden": false
        },
        "nteract": {
          "transient": {
            "deleting": false
          }
        }
      }
    },
    {
      "cell_type": "code",
      "source": [
        "print(best_run.get_details()['runDefinition']['arguments'])"
      ],
      "outputs": [],
      "execution_count": null,
      "metadata": {
        "jupyter": {
          "source_hidden": false,
          "outputs_hidden": false
        },
        "nteract": {
          "transient": {
            "deleting": false
          }
        },
        "gather": {
          "logged": 1684489774738
        }
      }
    },
    {
      "cell_type": "code",
      "source": [
        "pip install azureml-dataset-runtime --upgrade"
      ],
      "outputs": [],
      "execution_count": null,
      "metadata": {
        "jupyter": {
          "source_hidden": false,
          "outputs_hidden": true
        },
        "nteract": {
          "transient": {
            "deleting": false
          }
        },
        "gather": {
          "logged": 1684489774762
        }
      }
    },
    {
      "cell_type": "code",
      "source": [
        "from azureml.data.dataset_factory import TabularDatasetFactory\n",
        "\n",
        "# Create TabularDataset using TabularDatasetFactory\n",
        "# Data is available at: \n",
        "# \"https://automlsamplenotebookdata.blob.core.windows.net/automl-sample-notebook-data/bankmarketing_train.csv\"\n",
        "\n",
        "data = TabularDatasetFactory.from_delimited_files(\"https://automlsamplenotebookdata.blob.core.windows.net/automl-sample-notebook-data/bankmarketing_train.csv\")"
      ],
      "outputs": [],
      "execution_count": null,
      "metadata": {
        "gather": {
          "logged": 1684489774796
        }
      }
    },
    {
      "cell_type": "code",
      "source": [
        "from train_wv import clean_data\n",
        "import pandas as pd\n",
        "\n",
        "# Use the clean_data function to clean your data.\n",
        "x, y = clean_data(data)\n",
        "\n",
        "data_joined = pd.concat([x, y], axis=1)"
      ],
      "outputs": [],
      "execution_count": null,
      "metadata": {
        "gather": {
          "logged": 1684489774820
        },
        "jupyter": {
          "outputs_hidden": false,
          "source_hidden": false
        },
        "nteract": {
          "transient": {
            "deleting": false
          }
        }
      }
    },
    {
      "cell_type": "code",
      "source": [
        "from azureml.train.automl import AutoMLConfig\n",
        "\n",
        "# Set parameters for AutoMLConfig\n",
        "# NOTE: DO NOT CHANGE THE experiment_timeout_minutes PARAMETER OR YOUR INSTANCE WILL TIME OUT.\n",
        "# If you wish to run the experiment longer, you will need to run this notebook in your own\n",
        "# Azure tenant, which will incur personal costs.\n",
        "automl_config = AutoMLConfig(\n",
        "    experiment_timeout_minutes=30,\n",
        "    task='classification',\n",
        "    primary_metric='Accuracy',\n",
        "    training_data=data_joined,\n",
        "    label_column_name='y',\n",
        "    n_cross_validations=2)"
      ],
      "outputs": [],
      "execution_count": null,
      "metadata": {
        "gather": {
          "logged": 1684489774852
        },
        "jupyter": {
          "outputs_hidden": false,
          "source_hidden": false
        },
        "nteract": {
          "transient": {
            "deleting": false
          }
        }
      }
    },
    {
      "cell_type": "code",
      "source": [
        "# Submit your automl run\n",
        "\n",
        "experiment = Experiment(ws, 'automl')\n",
        "run = experiment.submit(config=automl_config, show_out=True)"
      ],
      "outputs": [],
      "execution_count": null,
      "metadata": {
        "jupyter": {
          "outputs_hidden": false,
          "source_hidden": false
        },
        "nteract": {
          "transient": {
            "deleting": false
          }
        },
        "gather": {
          "logged": 1684489774879
        }
      }
    },
    {
      "cell_type": "code",
      "source": [
        "# Retrieve and save your best automl model.\n",
        "\n",
        "best_run, model = run.get_output()\n",
        "best_run.register_model(model_name = 'automl_best_run', model_path='outputs/')\n",
        "print(best_run)"
      ],
      "outputs": [],
      "execution_count": null,
      "metadata": {
        "gather": {
          "logged": 1684489774907
        }
      }
    }
  ],
  "metadata": {
    "kernel_info": {
      "name": "python3"
    },
    "kernelspec": {
      "name": "python3",
      "language": "python",
      "display_name": "Python 3 (ipykernel)"
    },
    "language_info": {
      "name": "python",
      "version": "3.8.5",
      "mimetype": "text/x-python",
      "codemirror_mode": {
        "name": "ipython",
        "version": 3
      },
      "pygments_lexer": "ipython3",
      "nbconvert_exporter": "python",
      "file_extension": ".py"
    },
    "nteract": {
      "version": "nteract-front-end@1.0.0"
    },
    "microsoft": {
      "ms_spell_check": {
        "ms_spell_check_language": "en"
      },
      "host": {
        "AzureML": {
          "notebookHasBeenCompleted": true
        }
      }
    }
  },
  "nbformat": 4,
  "nbformat_minor": 2
}